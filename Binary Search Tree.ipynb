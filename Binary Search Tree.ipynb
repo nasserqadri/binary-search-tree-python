{
 "cells": [
  {
   "cell_type": "markdown",
   "id": "256f1bf3",
   "metadata": {},
   "source": [
    "## Binary Search Tree without recursive insert"
   ]
  },
  {
   "cell_type": "code",
   "execution_count": 17,
   "id": "a716a275",
   "metadata": {},
   "outputs": [],
   "source": [
    "class Node:\n",
    "    def __init__(self, value):\n",
    "        self.value = value\n",
    "        self.left, self.right = None, None\n",
    "\n",
    "class BinarySearchTree:\n",
    "    \n",
    "    def __init__(self):\n",
    "        self.root = None\n",
    "        \n",
    "    def insert(self, value):\n",
    "        new_node = Node(value)\n",
    "        if not self.root:\n",
    "            self.root = new_node\n",
    "            return True\n",
    "        \n",
    "\n",
    "        currNode = self.root\n",
    "\n",
    "        while True: \n",
    "            if new_node.value < currNode.value:\n",
    "                if currNode.left:\n",
    "                    currNode = currNode.left\n",
    "                else:\n",
    "                    currNode.left = new_node\n",
    "                    return True\n",
    "            elif new_node.value > currNode.value:\n",
    "                if currNode.right:\n",
    "                    currNode = currNode.right\n",
    "                else:\n",
    "                    currNode.right = new_node\n",
    "                    return True\n",
    "            else:\n",
    "                return False\n",
    "    def contains(self, value):\n",
    "        if not self.root:\n",
    "            return False\n",
    "        \n",
    "        currNode= self.root\n",
    "        \n",
    "        while currNode: \n",
    "            if value < currNode.value:\n",
    "                currNode = currNode.left\n",
    "            elif value > currNode.value:\n",
    "                currNode = currNode.right\n",
    "            else:\n",
    "                return True\n",
    "        \n",
    "        return False"
   ]
  },
  {
   "cell_type": "markdown",
   "id": "6c9bd8d0",
   "metadata": {},
   "source": [
    "### Test"
   ]
  },
  {
   "cell_type": "code",
   "execution_count": 22,
   "id": "dfc77d56",
   "metadata": {},
   "outputs": [
    {
     "name": "stdout",
     "output_type": "stream",
     "text": [
      "None\n",
      "2\n",
      "1\n",
      "3\n",
      "True\n",
      "True\n",
      "True\n",
      "False\n"
     ]
    }
   ],
   "source": [
    "bst = BinarySearchTree()\n",
    "print(bst.root)\n",
    "bst.insert(2)\n",
    "bst.insert(1)\n",
    "bst.insert(3)\n",
    "\n",
    "print(bst.root.value)\n",
    "print(bst.root.left.value)\n",
    "print(bst.root.right.value)\n",
    "print(bst.contains(2))\n",
    "print(bst.contains(1))\n",
    "print(bst.contains(3))\n",
    "print(bst.contains(5))"
   ]
  },
  {
   "cell_type": "markdown",
   "id": "c1a5be61",
   "metadata": {},
   "source": [
    "<hr>"
   ]
  },
  {
   "cell_type": "markdown",
   "id": "205e0e7e",
   "metadata": {},
   "source": [
    "## Recursive Binary Search Tree"
   ]
  },
  {
   "cell_type": "code",
   "execution_count": 53,
   "id": "003f44ec",
   "metadata": {},
   "outputs": [],
   "source": [
    "class Node:\n",
    "    def __init__(self, value):\n",
    "        self.value = value\n",
    "        self.left, self.right = None, None\n",
    "\n",
    "class RecursiveBinarySearchTree:\n",
    "    \n",
    "    def __init__(self):\n",
    "        self.root = None\n",
    "        \n",
    "    def insert(self, value):\n",
    "        new_node = Node(value)\n",
    "        if not self.root:\n",
    "            self.root = new_node\n",
    "            return True\n",
    "        \n",
    "\n",
    "        currNode = self.root\n",
    "\n",
    "        while True: \n",
    "            if new_node.value < currNode.value:\n",
    "                if currNode.left:\n",
    "                    currNode = currNode.left\n",
    "                else:\n",
    "                    currNode.left = new_node\n",
    "                    return True\n",
    "            elif new_node.value > currNode.value:\n",
    "                if currNode.right:\n",
    "                    currNode = currNode.right\n",
    "                else:\n",
    "                    currNode.right = new_node\n",
    "                    return True\n",
    "            else:\n",
    "                return False\n",
    "       \n",
    "    def __r_contains(self, currNode, value):\n",
    "        \n",
    "        if not currNode:\n",
    "            return False\n",
    "        if currNode.value == value:\n",
    "            return True\n",
    "        \n",
    "        if value < currNode.value:\n",
    "            return self.__r_contains(currNode.left, value)\n",
    "        else:\n",
    "            return self.__r_contains(currNode.right, value)\n",
    "        \n",
    "        \n",
    "    def r_contains(self, value):\n",
    "        return self.__r_contains(self.root, value)\n",
    "    \n",
    "    \n",
    "    def __r_insert(self, currNode, value):\n",
    "        '''Recursively insert'''\n",
    "        \n",
    "        if currNode == None:\n",
    "            return Node(value)\n",
    "        \n",
    "        if value < currNode.value:\n",
    "            currNode.left= self.__r_insert(currNode.left, value)\n",
    "        if value > currNode.value:\n",
    "            currNode.right = self.__r_insert(currNode.right, value)\n",
    "        return currNode\n",
    "         \n",
    "    \n",
    "    def r_insert(self, value):\n",
    "        ig \n",
    "        self.__r_insert(self.root, value)"
   ]
  },
  {
   "cell_type": "code",
   "execution_count": 54,
   "id": "97f9b312",
   "metadata": {},
   "outputs": [
    {
     "name": "stdout",
     "output_type": "stream",
     "text": [
      "None\n"
     ]
    },
    {
     "ename": "AttributeError",
     "evalue": "'NoneType' object has no attribute 'value'",
     "output_type": "error",
     "traceback": [
      "\u001b[1;31m---------------------------------------------------------------------------\u001b[0m",
      "\u001b[1;31mAttributeError\u001b[0m                            Traceback (most recent call last)",
      "Cell \u001b[1;32mIn[54], line 8\u001b[0m\n\u001b[0;32m      5\u001b[0m rbst\u001b[38;5;241m.\u001b[39mr_insert(\u001b[38;5;241m3\u001b[39m)\n\u001b[0;32m      6\u001b[0m rbst\u001b[38;5;241m.\u001b[39mr_insert(\u001b[38;5;241m6\u001b[39m)\n\u001b[1;32m----> 8\u001b[0m \u001b[38;5;28mprint\u001b[39m(\u001b[43mrbst\u001b[49m\u001b[38;5;241;43m.\u001b[39;49m\u001b[43mroot\u001b[49m\u001b[38;5;241;43m.\u001b[39;49m\u001b[43mvalue\u001b[49m)\n\u001b[0;32m      9\u001b[0m \u001b[38;5;28mprint\u001b[39m(rbst\u001b[38;5;241m.\u001b[39mroot\u001b[38;5;241m.\u001b[39mleft\u001b[38;5;241m.\u001b[39mvalue)\n\u001b[0;32m     10\u001b[0m \u001b[38;5;28mprint\u001b[39m(rbst\u001b[38;5;241m.\u001b[39mroot\u001b[38;5;241m.\u001b[39mright\u001b[38;5;241m.\u001b[39mvalue)\n",
      "\u001b[1;31mAttributeError\u001b[0m: 'NoneType' object has no attribute 'value'"
     ]
    }
   ],
   "source": [
    "rbst = RecursiveBinarySearchTree()\n",
    "print(rbst.root)\n",
    "rbst.r_insert(2)\n",
    "rbst.r_insert(1)\n",
    "rbst.r_insert(3)\n",
    "rbst.r_insert(6)\n",
    "\n",
    "print(rbst.root.value)\n",
    "print(rbst.root.left.value)\n",
    "print(rbst.root.right.value)\n",
    "print(rbst.r_contains(2))\n",
    "print(rbst.r_contains(1))\n",
    "print(rbst.r_contains(3))\n",
    "print(rbst.r_contains(5))\n",
    "print(rbst.r_contains(3))"
   ]
  },
  {
   "cell_type": "code",
   "execution_count": null,
   "id": "6880cc23",
   "metadata": {},
   "outputs": [],
   "source": []
  },
  {
   "cell_type": "code",
   "execution_count": null,
   "id": "dac4270a",
   "metadata": {},
   "outputs": [],
   "source": []
  }
 ],
 "metadata": {
  "kernelspec": {
   "display_name": "Python 3 (ipykernel)",
   "language": "python",
   "name": "python3"
  },
  "language_info": {
   "codemirror_mode": {
    "name": "ipython",
    "version": 3
   },
   "file_extension": ".py",
   "mimetype": "text/x-python",
   "name": "python",
   "nbconvert_exporter": "python",
   "pygments_lexer": "ipython3",
   "version": "3.10.10"
  }
 },
 "nbformat": 4,
 "nbformat_minor": 5
}
