{
 "cells": [
  {
   "cell_type": "markdown",
   "id": "678a44e3",
   "metadata": {},
   "source": [
    "## Binary Search Tree without recursive insert"
   ]
  },
  {
   "cell_type": "code",
   "execution_count": 17,
   "id": "da0dbd38",
   "metadata": {},
   "outputs": [],
   "source": [
    "class Node:\n",
    "    def __init__(self, value):\n",
    "        self.value = value\n",
    "        self.left, self.right = None, None\n",
    "\n",
    "class BinarySearchTree:\n",
    "    \n",
    "    def __init__(self):\n",
    "        self.root = None\n",
    "        \n",
    "    def insert(self, value):\n",
    "        new_node = Node(value)\n",
    "        if not self.root:\n",
    "            self.root = new_node\n",
    "            return True\n",
    "        \n",
    "\n",
    "        currNode = self.root\n",
    "\n",
    "        while True: \n",
    "            if new_node.value < currNode.value:\n",
    "                if currNode.left:\n",
    "                    currNode = currNode.left\n",
    "                else:\n",
    "                    currNode.left = new_node\n",
    "                    return True\n",
    "            elif new_node.value > currNode.value:\n",
    "                if currNode.right:\n",
    "                    currNode = currNode.right\n",
    "                else:\n",
    "                    currNode.right = new_node\n",
    "                    return True\n",
    "            else:\n",
    "                return False\n",
    "    def contains(self, value):\n",
    "        if not self.root:\n",
    "            return False\n",
    "        \n",
    "        currNode= self.root\n",
    "        \n",
    "        while currNode: \n",
    "            if value < currNode.value:\n",
    "                currNode = currNode.left\n",
    "            elif value > currNode.value:\n",
    "                currNode = currNode.right\n",
    "            else:\n",
    "                return True\n",
    "        \n",
    "        return False"
   ]
  },
  {
   "cell_type": "markdown",
   "id": "0227b149",
   "metadata": {},
   "source": [
    "### Test"
   ]
  },
  {
   "cell_type": "code",
   "execution_count": 22,
   "id": "4d3a63dd",
   "metadata": {},
   "outputs": [
    {
     "name": "stdout",
     "output_type": "stream",
     "text": [
      "None\n",
      "2\n",
      "1\n",
      "3\n",
      "True\n",
      "True\n",
      "True\n",
      "False\n"
     ]
    }
   ],
   "source": [
    "bst = BinarySearchTree()\n",
    "print(bst.root)\n",
    "bst.insert(2)\n",
    "bst.insert(1)\n",
    "bst.insert(3)\n",
    "\n",
    "print(bst.root.value)\n",
    "print(bst.root.left.value)\n",
    "print(bst.root.right.value)\n",
    "print(bst.contains(2))\n",
    "print(bst.contains(1))\n",
    "print(bst.contains(3))\n",
    "print(bst.contains(5))"
   ]
  },
  {
   "cell_type": "markdown",
   "id": "d8d637cf",
   "metadata": {},
   "source": [
    "<hr>"
   ]
  },
  {
   "cell_type": "markdown",
   "id": "ac8d95b7",
   "metadata": {},
   "source": [
    "## Recursive Binary Search Tree"
   ]
  },
  {
   "cell_type": "code",
   "execution_count": 35,
   "id": "7614ef3d",
   "metadata": {},
   "outputs": [],
   "source": [
    "class Node:\n",
    "    def __init__(self, value):\n",
    "        self.value = value\n",
    "        self.left, self.right = None, None\n",
    "\n",
    "class RecursiveBinarySearchTree:\n",
    "    \n",
    "    def __init__(self):\n",
    "        self.root = None\n",
    "        \n",
    "    def insert(self, value):\n",
    "        new_node = Node(value)\n",
    "        if not self.root:\n",
    "            self.root = new_node\n",
    "            return True\n",
    "        \n",
    "\n",
    "        currNode = self.root\n",
    "\n",
    "        while True: \n",
    "            if new_node.value < currNode.value:\n",
    "                if currNode.left:\n",
    "                    currNode = currNode.left\n",
    "                else:\n",
    "                    currNode.left = new_node\n",
    "                    return True\n",
    "            elif new_node.value > currNode.value:\n",
    "                if currNode.right:\n",
    "                    currNode = currNode.right\n",
    "                else:\n",
    "                    currNode.right = new_node\n",
    "                    return True\n",
    "            else:\n",
    "                return False\n",
    "       \n",
    "    def __r_contains(self, currNode, value):\n",
    "        \n",
    "        if not currNode:\n",
    "            return False\n",
    "        if currNode.value == value:\n",
    "            return True\n",
    "        \n",
    "        if value < currNode.value:\n",
    "            return self.__r_contains(currNode.left, value)\n",
    "        else:\n",
    "            return self.__r_contains(currNode.right, value)\n",
    "        \n",
    "        \n",
    "    def r_contains(self, value):\n",
    "        return self.__r_contains(self.root, value)\n",
    "    \n",
    "    \n",
    "    def __r_insert(self, currNode, new_node):\n",
    "        '''Recursively insert'''\n",
    "        \n",
    "        \n",
    "        if new_node.value < currNode.value and currNode.left is None:\n",
    "            if currNode.left is None:\n",
    "                currNode.left = new_node\n",
    "                return True\n",
    "            self.__r_insert(currNode.left, new_node)\n",
    "            currNode.left = new_node\n",
    "        elif new_node.value > currNode.value:\n",
    "            if currNode.right is None:\n",
    "                currNode.right = new_node\n",
    "                return True\n",
    "            self.__r_insert(currNode.right, new_node)\n",
    "            \n",
    "         \n",
    "    \n",
    "    def r_insert(self, value):\n",
    "        new_node=Node(value)\n",
    "        if not self.root:\n",
    "            self.root = new_node\n",
    "            return True\n",
    "        \n",
    "        return self.__r_insert(self.root, new_node)"
   ]
  },
  {
   "cell_type": "code",
   "execution_count": 37,
   "id": "6607e4c7",
   "metadata": {},
   "outputs": [
    {
     "name": "stdout",
     "output_type": "stream",
     "text": [
      "None\n",
      "2\n",
      "1\n",
      "3\n",
      "True\n",
      "True\n",
      "True\n",
      "False\n",
      "True\n"
     ]
    }
   ],
   "source": [
    "rbst = RecursiveBinarySearchTree()\n",
    "print(rbst.root)\n",
    "rbst.r_insert(2)\n",
    "rbst.r_insert(1)\n",
    "rbst.r_insert(3)\n",
    "rbst.r_insert(6)\n",
    "\n",
    "print(rbst.root.value)\n",
    "print(rbst.root.left.value)\n",
    "print(rbst.root.right.value)\n",
    "print(rbst.r_contains(2))\n",
    "print(rbst.r_contains(1))\n",
    "print(rbst.r_contains(3))\n",
    "print(rbst.r_contains(5))\n",
    "print(rbst.r_contains(3))"
   ]
  },
  {
   "cell_type": "code",
   "execution_count": null,
   "id": "e50b9dd0",
   "metadata": {},
   "outputs": [],
   "source": []
  },
  {
   "cell_type": "code",
   "execution_count": null,
   "id": "627ff44f",
   "metadata": {},
   "outputs": [],
   "source": []
  }
 ],
 "metadata": {
  "kernelspec": {
   "display_name": "Python 3 (ipykernel)",
   "language": "python",
   "name": "python3"
  },
  "language_info": {
   "codemirror_mode": {
    "name": "ipython",
    "version": 3
   },
   "file_extension": ".py",
   "mimetype": "text/x-python",
   "name": "python",
   "nbconvert_exporter": "python",
   "pygments_lexer": "ipython3",
   "version": "3.10.10"
  }
 },
 "nbformat": 4,
 "nbformat_minor": 5
}
